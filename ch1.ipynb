{
 "cells": [
  {
   "cell_type": "code",
   "execution_count": 8,
   "id": "9930bba0",
   "metadata": {},
   "outputs": [],
   "source": [
    "import numpy as np"
   ]
  },
  {
   "cell_type": "markdown",
   "id": "74a390ad",
   "metadata": {},
   "source": [
    "# 1장 벡터, 행렬, 행렬식"
   ]
  },
  {
   "cell_type": "markdown",
   "id": "c4c8cd6f",
   "metadata": {},
   "source": [
    "## 1.1 벡터와 공간"
   ]
  },
  {
   "cell_type": "markdown",
   "id": "a6f7770d",
   "metadata": {},
   "source": [
    "### 벡터(vector) : 수의 나열"
   ]
  },
  {
   "cell_type": "code",
   "execution_count": 9,
   "id": "511d46b7",
   "metadata": {},
   "outputs": [
    {
     "data": {
      "text/plain": [
       "(array([2, 5]),\n",
       " array([6, 3, 3]),\n",
       " array([ 2.9       , -0.3       ,  0.14285714, 42.        ]))"
      ]
     },
     "execution_count": 9,
     "metadata": {},
     "output_type": "execute_result"
    }
   ],
   "source": [
    "np.array([2, 5]), np.array([6, 3, 3]), np.array([2.9, -0.3, 1/7, 42])"
   ]
  },
  {
   "cell_type": "markdown",
   "id": "4c759e05",
   "metadata": {},
   "source": [
    "### 벡터의 덧셈과 정수배"
   ]
  },
  {
   "cell_type": "code",
   "execution_count": 11,
   "id": "912b8e27",
   "metadata": {
    "scrolled": true
   },
   "outputs": [
    {
     "name": "stdout",
     "output_type": "stream",
     "text": [
      "[ 9 14  7]\n",
      "[ 6 27 12]\n"
     ]
    }
   ],
   "source": [
    "x = np.array([2, 9, 4])\n",
    "y = np.array([7, 5, 3])\n",
    "print(x + y)\n",
    "print(3 * x)"
   ]
  },
  {
   "cell_type": "markdown",
   "id": "4cc672f1",
   "metadata": {},
   "source": [
    "### 벡터의 성질"
   ]
  },
  {
   "cell_type": "code",
   "execution_count": 35,
   "id": "6dc4e259",
   "metadata": {},
   "outputs": [
    {
     "name": "stdout",
     "output_type": "stream",
     "text": [
      "[12 54 24]\n",
      "[12 54 24]\n",
      "\n",
      "[2 9 4]\n",
      "[2 9 4]\n",
      "\n",
      "[ 9 14  7]\n",
      "[ 9 14  7]\n",
      "\n",
      "[19 34 37]\n",
      "[19 34 37]\n",
      "\n",
      "[2 9 4]\n",
      "[2 9 4]\n",
      "\n",
      "[0 0 0]\n",
      "\n",
      "[18 28 14]\n",
      "[18 28 14]\n",
      "\n",
      "[10 45 20]\n",
      "[10 45 20]\n"
     ]
    }
   ],
   "source": [
    "c = 2\n",
    "d = 3\n",
    "print((c * d) * x)\n",
    "print(c * (d * x))\n",
    "print()\n",
    "print(1 * x)\n",
    "print(x)\n",
    "print()\n",
    "print(x + y)\n",
    "print(y + x)\n",
    "print()\n",
    "z = np.array([10,20,30])\n",
    "print((x + y) + z)\n",
    "print(x + (y + z))\n",
    "print()\n",
    "print(x + np.array([0,0,0]))\n",
    "print(x)\n",
    "print()\n",
    "print(x + (-x))\n",
    "print()\n",
    "print(c * (x + y))\n",
    "print(c * x + c * y)\n",
    "print()\n",
    "print((c + d) * x)\n",
    "print(c * x + d * x)"
   ]
  },
  {
   "cell_type": "markdown",
   "id": "d5914610",
   "metadata": {},
   "source": [
    "### 선형 공간(linear space) : 좌표와 방향 없이 벡터를 덧셈과 정수배로 표현하는 공간"
   ]
  },
  {
   "cell_type": "markdown",
   "id": "aa2de8c0",
   "metadata": {},
   "source": [
    "### 기저(basis) : 선형 공간에서 기준이 되는 한 쌍의 벡터"
   ]
  },
  {
   "cell_type": "markdown",
   "id": "0deb276f",
   "metadata": {},
   "source": [
    "$v = 3e_{1} + 2e_{2}$ 식에서 기저는 (e1, e2)를 의미하고 e1, e2를 기저 벡터라고 부름"
   ]
  },
  {
   "cell_type": "markdown",
   "id": "5bcbe545",
   "metadata": {},
   "source": [
    "### 벡터의 조합을 기저라 부르는 것은 기저가 되기 위한 조건은 다음 2가지를 만족시켰을 때 뿐이다."
   ]
  },
  {
   "cell_type": "markdown",
   "id": "eda71fd6",
   "metadata": {},
   "source": [
    "1. 어떤 벡터라도 $v = x_{1}e_{1} + x_{2}e_{2} + ... + x_{n}x_{n}$ 의 형태로 나타낼 수 있다.  \n",
    "2. 나타내는 방법은 오직 한 가지 뿐이다.  \n",
    "\n",
    "### 차원 = 기저 베거의 개수 = 좌표의 성분수"
   ]
  },
  {
   "cell_type": "markdown",
   "id": "5f4a2495",
   "metadata": {},
   "source": [
    "## 1.2 행렬과 사상"
   ]
  },
  {
   "cell_type": "markdown",
   "id": "adafd259",
   "metadata": {},
   "source": [
    "행렬 : 수를 직사각형 형태로 나열한 것  \n",
    "정방 행렬 : 행의 수와 열의 수가 같은 행렬 "
   ]
  },
  {
   "cell_type": "markdown",
   "id": "71ad85c0",
   "metadata": {},
   "source": [
    "$ A = \\begin{pmatrix}\n",
    "a_{11} & a_{12} & a_{13} \\\\\n",
    "a_{21} & a_{22} & a_{23} \\\\\n",
    "a_{31} & a_{32} & a_{33} \n",
    "\\end{pmatrix}$"
   ]
  },
  {
   "cell_type": "markdown",
   "id": "35258879",
   "metadata": {},
   "source": [
    "### 행렬의 덧셈"
   ]
  },
  {
   "cell_type": "code",
   "execution_count": 36,
   "id": "a020500d",
   "metadata": {},
   "outputs": [
    {
     "name": "stdout",
     "output_type": "stream",
     "text": [
      "[[ 3 11  7]\n",
      " [11 10  9]]\n"
     ]
    }
   ],
   "source": [
    "A = np.array([[2, 9, 4], \n",
    "              [7, 5, 3]])\n",
    "B = np.array([[1, 2, 3], \n",
    "              [4, 5, 6]])\n",
    "print(A + B)"
   ]
  },
  {
   "cell_type": "markdown",
   "id": "ee6f5743",
   "metadata": {},
   "source": [
    "### 행렬의 정수배"
   ]
  },
  {
   "cell_type": "code",
   "execution_count": 37,
   "id": "f28f54aa",
   "metadata": {},
   "outputs": [
    {
     "name": "stdout",
     "output_type": "stream",
     "text": [
      "[[ 6 27 12]\n",
      " [21 15  9]]\n"
     ]
    }
   ],
   "source": [
    "print(3 * A)"
   ]
  },
  {
   "cell_type": "code",
   "execution_count": 38,
   "id": "5f5b70c2",
   "metadata": {},
   "outputs": [
    {
     "name": "stdout",
     "output_type": "stream",
     "text": [
      "[[-2 -9 -4]\n",
      " [-7 -5 -3]]\n",
      "[[-2 -9 -4]\n",
      " [-7 -5 -3]]\n",
      "\n",
      "[[ 1  7  1]\n",
      " [ 3  0 -3]]\n",
      "[[ 1  7  1]\n",
      " [ 3  0 -3]]\n",
      "\n",
      "[[ 7 24 17]\n",
      " [26 25 24]]\n",
      "[[ 7 24 17]\n",
      " [26 25 24]]\n"
     ]
    }
   ],
   "source": [
    "print(-A)\n",
    "print(-1 * A)\n",
    "print()\n",
    "print(A - B)\n",
    "print(A + (-B))\n",
    "print()\n",
    "print(2 * A + 3 * B)\n",
    "print((2 * A) + (3 * B))"
   ]
  },
  {
   "cell_type": "markdown",
   "id": "720a53ee",
   "metadata": {},
   "source": [
    "### 행렬의 곱셈"
   ]
  },
  {
   "cell_type": "markdown",
   "id": "1fc21dac",
   "metadata": {},
   "source": [
    "$ \\begin{pmatrix} \n",
    "a_{11} & a_{12} \\\\\n",
    "a_{21} & a_{22} \n",
    "\\end{pmatrix}\n",
    "\\begin{pmatrix}\n",
    "x_{1}\n",
    "x_{2}\n",
    "\\end{pmatrix}\n",
    "=\n",
    "\\begin{pmatrix}\n",
    "a_{11}x_{1} + a_{12}x_{2} \\\\\n",
    "a_{21}x_{1} + a_{22}x_{2}\n",
    "\\end{pmatrix} $"
   ]
  },
  {
   "cell_type": "markdown",
   "id": "db58550d",
   "metadata": {},
   "source": [
    "## 행렬은 사상(map)이다. : 행렬은 특정 벡터나 행렬을 이동시킬 수 있다."
   ]
  },
  {
   "cell_type": "markdown",
   "id": "de53ab7a",
   "metadata": {},
   "source": [
    "n차원 벡터 x에 m x n 행렬 A를 곱하면 m차원 벡터 y= Ax를 얻을 수 있다."
   ]
  },
  {
   "cell_type": "code",
   "execution_count": 41,
   "id": "3eb1017d",
   "metadata": {},
   "outputs": [
    {
     "name": "stdout",
     "output_type": "stream",
     "text": [
      "[75 80 57]\n"
     ]
    }
   ],
   "source": [
    "x = np.array([3, 7])\n",
    "A = np.array([[4, 9],\n",
    "              [1, 11],\n",
    "              [5, 6]])\n",
    "y = np.dot(A, x)\n",
    "print(y)"
   ]
  },
  {
   "cell_type": "markdown",
   "id": "50d8dd2e",
   "metadata": {},
   "source": [
    "### 행렬의 곱 = 사상의 합성"
   ]
  },
  {
   "cell_type": "code",
   "execution_count": 54,
   "id": "6d305047",
   "metadata": {},
   "outputs": [
    {
     "name": "stdout",
     "output_type": "stream",
     "text": [
      "[[ 60  90]\n",
      " [120  70]]\n",
      "[[ 40 180]\n",
      " [ 80 140]]\n",
      "[[12 18]\n",
      " [24 14]] \n",
      "\n",
      "[[21 12]\n",
      " [30 15]]\n",
      "[[21 12]\n",
      " [30 15]] \n",
      "\n",
      "[[ 7 12]\n",
      " [10 15]]\n",
      "[[ 7 12]\n",
      " [10 15]] \n",
      "\n",
      "[[17 32]\n",
      " [40 55]]\n",
      "[[17 32]\n",
      " [40 55]] \n",
      "\n",
      "[[10 45]\n",
      " [20 35]]\n",
      "[[10 45]\n",
      " [20 35]] \n",
      "\n",
      "[[12 54]\n",
      " [24 42]]\n",
      "[[12 54]\n",
      " [24 42]] \n",
      "\n",
      "[[354 478]\n",
      " [312 428]]\n",
      "[[354 478]\n",
      " [312 428]] \n",
      "\n",
      "[[430 620]\n",
      " [550 800]]\n",
      "[[430 620]\n",
      " [550 800]] \n",
      "\n",
      "[[640 780]\n",
      " [620 680]]\n",
      "[[640 780]\n",
      " [620 680]]\n",
      "[[640 780]\n",
      " [620 680]]\n"
     ]
    }
   ],
   "source": [
    "A = np.array([[2, 9],\n",
    "             [4, 7]])\n",
    "B = np.array([[5, 3],\n",
    "              [6, 8]])\n",
    "C = np.array([[10, 20],\n",
    "             [30, 40]])\n",
    "x = np.array([3, 1])\n",
    "\n",
    "\n",
    "print((10*A)*x)\n",
    "print(c*(A*10))\n",
    "print(A*(c*x),'\\n')\n",
    "\n",
    "print((A + B)*x)\n",
    "print(A*x + B*x, '\\n')\n",
    "\n",
    "print(A + B)\n",
    "print(B + A, '\\n')\n",
    "\n",
    "print((A + B) + C)\n",
    "print(A + (B + C), '\\n')\n",
    "\n",
    "print((2 + 3)*A)\n",
    "print(2*A + 3*A, '\\n')\n",
    "\n",
    "print((2*3)*A)\n",
    "print(2*(3*A), '\\n')\n",
    "\n",
    "print(np.dot(A, (B + C)))\n",
    "print(np.dot(A, B) + np.dot(A, C), '\\n')\n",
    "\n",
    "print(np.dot((A + B), C))\n",
    "print(np.dot(A, C) + np.dot(B, C), '\\n')\n",
    "\n",
    "print(np.dot((10*A), B))\n",
    "print(10*np.dot(A, B))\n",
    "print(np.dot(A, (10*B)))"
   ]
  },
  {
   "source": [
    "Test"
   ],
   "cell_type": "markdown",
   "metadata": {}
  }
 ],
 "metadata": {
  "kernelspec": {
   "display_name": "Python 3",
   "language": "python",
   "name": "python3"
  },
  "language_info": {
   "codemirror_mode": {
    "name": "ipython",
    "version": 3
   },
   "file_extension": ".py",
   "mimetype": "text/x-python",
   "name": "python",
   "nbconvert_exporter": "python",
   "pygments_lexer": "ipython3",
   "version": "3.9.5"
  }
 },
 "nbformat": 4,
 "nbformat_minor": 5
}